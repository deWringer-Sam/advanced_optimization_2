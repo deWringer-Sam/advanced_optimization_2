{
 "cells": [
  {
   "cell_type": "markdown",
   "metadata": {},
   "source": [
    "# Warehouse Problem - Benders\n",
    "\n",
    "Let's recall the formulations.\n",
    "\n",
    "The MIP model is:\n",
    "\n",
    "\\begin{align*}\n",
    "\\min &\\qquad \\sum_w c_w x_w + \\sum_{w ,c} t_{w,c} y_{w,c} + \\sum_c M z_c & \\\\\n",
    "\\text{subject to:} &&\\\\\n",
    "&y_{w,c} \\leq x_w & \\forall w,c \\\\\n",
    "&\\sum_w y_{w,c} + z_c = 1 & \\forall c \\\\\n",
    "&\\sum_c y_{w,c} \\leq C_w  x_w & \\forall w \\\\\n",
    "&x_w, y_{w,c}, z_c \\in \\mathbb{B} & \\forall w,c\n",
    "\\end{align*}\n",
    "\n",
    "The Benders decomposition is:\n",
    "\n",
    "#### Master:\n",
    "\n",
    "\\begin{align*}\n",
    "\\min &\\qquad \\sum_w c_w x_w + \\theta & \\\\\n",
    "\\text{subject to:} && \\\\\n",
    "&\\theta \\geq \\sum_w (C_w \\gamma^n_w + \\sum_c \\alpha^n_{w,c}) x_w + \\sum_c \\beta^n_c & \\forall n \\\\\n",
    "&x_w \\in \\mathbb{B} & \\forall w,c \\\\\n",
    "&\\theta \\geq 0 &\n",
    "\\end{align*}\n",
    "\n",
    "#### Subproblem:\n",
    "\n",
    "\\begin{align*}\n",
    "\\min & \\qquad \\sum_{w ,c} t_{w,c} y_{w,c} + \\sum_c M z_c & \\\\\n",
    "\\text{subject to:} && \\\\\n",
    "&y_{w,c} \\leq x^n_w & \\forall w,c \\quad (\\alpha_{w,c}) \\\\\n",
    "&\\sum_w y_{w,c} + z_c = 1 & \\forall c \\quad (\\beta_c) \\\\\n",
    "&\\sum_c y_{w,c} \\leq C_w  x^n_w & \\forall w \\quad (\\gamma_w) \\\\\n",
    "&y_{w,c}, z_c \\geq 0 & \\forall w,c\n",
    "\\end{align*}"
   ]
  },
  {
   "cell_type": "code",
   "execution_count": 1,
   "metadata": {},
   "outputs": [],
   "source": [
    "fixed = 30  # c_w (all the costs are the same)\n",
    "M = 10*fixed  # the penalty\n",
    "capacity = [1,4,2,1,3]  # the capacity of a warehouse\n",
    "supplyCost = [[20,24,11,25,30],  # t_{w,c}\n",
    "              [28,27,82,83,74],\n",
    "              [74,97,71,96,70],\n",
    "              [2,55,73,69,61],\n",
    "              [46,96,59,83,4],\n",
    "              [42,22,29,67,59],\n",
    "              [1,5,73,59,56],\n",
    "              [10,73,13,43,96],\n",
    "              [93,35,63,85,46],\n",
    "              [47,65,55,71,95]]\n",
    "nbStores = len(supplyCost)\n",
    "nbWarehouses = len(capacity)\n",
    "Stores = range(nbStores)\n",
    "Warehouses = range(nbWarehouses)"
   ]
  },
  {
   "cell_type": "markdown",
   "metadata": {},
   "source": [
    "### Excercices\n",
    "\n",
    "#### 1. Implement the subproblem."
   ]
  },
  {
   "cell_type": "code",
   "execution_count": 2,
   "metadata": {},
   "outputs": [],
   "source": [
    "from docplex.mp.model import Model\n",
    "\n",
    "def benders_subproblem(x_sol=[0]*nbWarehouses):\n",
    "    mdl = Model(name='sub_problem')\n",
    "\n",
    "    \n",
    "\n",
    "    return (mdl.objective_value,  # the objective value\n",
    "            const,  # the constant part of the benders' cut\n",
    "            coeffs)  # the coefficients of the benders' cut"
   ]
  },
  {
   "cell_type": "markdown",
   "metadata": {},
   "source": [
    "#### Try the function"
   ]
  },
  {
   "cell_type": "code",
   "execution_count": 3,
   "metadata": {},
   "outputs": [
    {
     "name": "stdout",
     "output_type": "stream",
     "text": [
      "Set parameter CSManager to value \"https://gurobi.gamma.bcg.com\"\n",
      "Set parameter CSAPIAccessID\n",
      "Set parameter CSAPISecret\n",
      "Set parameter CSAppName to value \"Pathfinder\"\n",
      "Compute Server job ID: d39d2a8e-ba30-4f78-966f-896f67c77a8d\n",
      "Capacity available on 'AMRAPCMU180193L:41954' - connecting...\n",
      "Established HTTPS encrypted connection\n",
      "Gurobi Optimizer version 11.0.0 build v11.0.0rc2 (mac64[arm] - Darwin 23.5.0 23F79)\n",
      "Gurobi Compute Server Worker version 11.0.0 build v11.0.0rc2 (linux64 - \"Ubuntu 20.04.6 LTS\")\n",
      "\n",
      "CPU model: Intel(R) Xeon(R) Platinum 8175M CPU @ 2.50GHz, instruction set [SSE2|AVX|AVX2|AVX512]\n",
      "Thread count: 8 physical cores, 16 logical processors, using up to 16 threads\n",
      "\n",
      "Optimize a model with 65 rows, 60 columns and 160 nonzeros\n",
      "Model fingerprint: 0x39e354be\n",
      "Coefficient statistics:\n",
      "  Matrix range     [1e+00, 1e+00]\n",
      "  Objective range  [1e+00, 3e+02]\n",
      "  Bounds range     [0e+00, 0e+00]\n",
      "  RHS range        [1e+00, 1e+00]\n",
      "Presolve removed 65 rows and 60 columns\n",
      "Presolve time: 0.00s\n",
      "Presolve: All rows and columns removed\n",
      "Iteration    Objective       Primal Inf.    Dual Inf.      Time\n",
      "       0    3.0000000e+03   0.000000e+00   0.000000e+00      0s\n",
      "\n",
      "Solved in 0 iterations and 0.00 seconds (0.00 work units)\n",
      "Optimal objective  3.000000000e+03\n"
     ]
    }
   ],
   "source": [
    "benders_subproblem()"
   ]
  },
  {
   "cell_type": "markdown",
   "metadata": {},
   "source": [
    "#### 2. Implement the master problem\n",
    "\n",
    "Create a master problem without any cut and solve it."
   ]
  },
  {
   "cell_type": "code",
   "execution_count": 4,
   "metadata": {},
   "outputs": [
    {
     "name": "stdout",
     "output_type": "stream",
     "text": [
      "3000.0\n",
      "3000.0\n",
      "[-2637.0, -2501.0, -2471.0, -2319.0, -2409.0]\n"
     ]
    }
   ],
   "source": [
    "m_mdl = Model(name='master')\n",
    "iteration = 0\n",
    "\n"
   ]
  },
  {
   "cell_type": "markdown",
   "metadata": {},
   "source": [
    "#### Then, create the resolution loop that will:\n",
    "1. Solve the master problem\n",
    "2. Solve the sub-problem with a solution\n",
    "3. Add the benders' cut to the master problem"
   ]
  },
  {
   "cell_type": "code",
   "execution_count": 8,
   "metadata": {},
   "outputs": [
    {
     "data": {
      "text/plain": "0.0"
     },
     "execution_count": 8,
     "metadata": {},
     "output_type": "execute_result"
    }
   ],
   "source": [
    "\n",
    "\n"
   ]
  }
 ],
 "metadata": {
  "kernelspec": {
   "display_name": "Python 3",
   "language": "python",
   "name": "python3"
  },
  "language_info": {
   "codemirror_mode": {
    "name": "ipython",
    "version": 3
   },
   "file_extension": ".py",
   "mimetype": "text/x-python",
   "name": "python",
   "nbconvert_exporter": "python",
   "pygments_lexer": "ipython3",
   "version": "3.7.7"
  }
 },
 "nbformat": 4,
 "nbformat_minor": 2
}
