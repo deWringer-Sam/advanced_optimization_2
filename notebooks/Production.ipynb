{
 "cells": [
  {
   "cell_type": "markdown",
   "metadata": {},
   "source": [
    "# The production problem\n",
    "\n",
    "A biscuit factory produces cookies, cupcakes, and  brownies which are then sold at different prices.\n",
    "Each type of biscuits needs some flour, sugar, chocolate, vegetal oil, and eggs.\n",
    "For a given quantity of goods, the factory manager wants to maximize its revenue."
   ]
  },
  {
   "cell_type": "code",
   "execution_count": null,
   "metadata": {},
   "outputs": [],
   "source": [
    "biscuits = ['cookie', 'cupcake', 'brownie']\n",
    "goods = ['flour', 'sugar', 'chocolate', 'oil', 'eggs']\n",
    "# quantity\n",
    "w = [[.1, .15, .1, .05, 0],  # cookie\n",
    "     [.3, .2, .05, .1, 2],  # cupcake\n",
    "     [.05, .3, .3, .1, 3]]  # brownie\n",
    "c = [2, 3, 5]  # price\n",
    "s = [25, 40, 30, 15, 300]  # stock"
   ]
  },
  {
   "cell_type": "markdown",
   "metadata": {},
   "source": [
    "### Exercices\n",
    "\n",
    "#### 1. Find the formulation of the problem\n",
    "\n",
    "#### 2. Implement the model"
   ]
  },
  {
   "cell_type": "code",
   "execution_count": 1,
   "metadata": {},
   "outputs": [],
   "source": [
    "from docplex.mp.model import Model\n",
    "mdl = Model(name='production')\n",
    "\n"
   ]
  },
  {
   "cell_type": "markdown",
   "metadata": {},
   "source": [
    "#### 3. What good should the manager buy to increase the factory's revenue ?"
   ]
  },
  {
   "cell_type": "code",
   "execution_count": null,
   "metadata": {},
   "outputs": [],
   "source": []
  },
  {
   "cell_type": "markdown",
   "metadata": {},
   "source": [
    "#### 4. Increase of one unit a stock, observe the modification of the revenue and the expected increase in revenue"
   ]
  },
  {
   "cell_type": "code",
   "execution_count": null,
   "metadata": {},
   "outputs": [],
   "source": []
  }
 ],
 "metadata": {
  "kernelspec": {
   "display_name": "Python 3",
   "language": "python",
   "name": "python3"
  },
  "language_info": {
   "codemirror_mode": {
    "name": "ipython",
    "version": 3
   },
   "file_extension": ".py",
   "mimetype": "text/x-python",
   "name": "python",
   "nbconvert_exporter": "python",
   "pygments_lexer": "ipython3",
   "version": "3.7.7"
  }
 },
 "nbformat": 4,
 "nbformat_minor": 2
}
