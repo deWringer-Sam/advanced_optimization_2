{
 "cells": [
  {
   "cell_type": "markdown",
   "metadata": {},
   "source": [
    "# Warehouse Problem - Lagrangian relaxation\n",
    "\n",
    "Let us recall the original MIP formulation:\n",
    "\n",
    "\\begin{align*}\n",
    "\\min &\\qquad \\sum_w c_w x_w + \\sum_{w ,c} t_{w,c} y_{w,c}  & \\\\\n",
    "\\text{subject to:} &&\\\\\n",
    "&y_{w,c} \\leq x_w & \\forall w,c \\\\\n",
    "&\\sum_w y_{w,c} = 1 & \\forall c \\\\\n",
    "&\\sum_c y_{w,c} \\leq C_w  x_w & \\forall w \\\\\n",
    "&x_w, y_{w,c}, z_c \\in \\mathbb{B} & \\forall w,c\n",
    "\\end{align*}"
   ]
  },
  {
   "cell_type": "code",
   "execution_count": null,
   "metadata": {
    "pycharm": {
     "is_executing": true
    }
   },
   "outputs": [],
   "source": [
    "fixed = 30  # c_w (all the costs are the same)\n",
    "M = 10*fixed  # the penalty\n",
    "capacity = [1,4,2,1,3]  # the capacity of a warehouse\n",
    "supplyCost = [[20,24,11,25,30],  # t_{w,c}\n",
    "              [28,27,82,83,74],\n",
    "              [74,97,71,96,70],\n",
    "              [2,55,73,69,61],\n",
    "              [46,96,59,83,4],\n",
    "              [42,22,29,67,59],\n",
    "              [1,5,73,59,56],\n",
    "              [10,73,13,43,96],\n",
    "              [93,35,63,85,46],\n",
    "              [47,65,55,71,95]]\n",
    "nbStores = len(supplyCost)\n",
    "nbWarehouses = len(capacity)\n",
    "Stores = range(nbStores)\n",
    "Warehouses = range(nbWarehouses)"
   ]
  },
  {
   "cell_type": "markdown",
   "metadata": {},
   "source": [
    "### Excercices\n",
    "\n",
    "#### 1. Find the lagrangian relaxation formulation where the constraints 2 are relaxed.\n",
    "\n",
    "#### 2. Implement the lagrangian relaxation."
   ]
  },
  {
   "cell_type": "code",
   "execution_count": null,
   "metadata": {
    "pycharm": {
     "is_executing": true
    }
   },
   "outputs": [],
   "source": [
    "import gurobipy as gp\n",
    "\n",
    "def lagrangian_relaxation(lagrange_multipliers=[1] * nbStores):\n",
    "    mdl = gp.Model(name='lagrangian')\n",
    "\n",
    "    # Variables\n",
    "    warehouse_is_open = mdl.addVars(nbWarehouses, vtype=gp.GRB.BINARY, name='warehouse_is_open')\n",
    "    warehouse_supplies_store = mdl.addVars(Warehouses, Stores, vtype=gp.GRB.BINARY, name='warehouse_supplies_store')\n",
    "\n",
    "    # Constraint\n",
    "    only_open_warehouses_can_serve_stores = mdl.addConstrs(warehouse_supplies_store[w, c] <= warehouse_is_open[w] for w in Warehouses for c in Stores)\n",
    "    # This is the constraint that we're going to relax.\n",
    "    # each_store_is_served_by_one_warehouse = mdl.addConstrs(gp.quicksum(warehouse_supplies_store[w, c] for w in Warehouses) == 1 for c in Stores)\n",
    "\n",
    "    warehouse_capacity_is_respected = mdl.addConstrs(gp.guicksum(warehouse_supplies_store[w, c] for c in Stores) <= capacity[w]*warehouse_is_open[w] for w in Warehouses)\n",
    "\n",
    "\n",
    "    # Objective function\n",
    "    cost_of_opening_a_warehouse = gp.quicksum(fixed*warehouse_is_open[w] for w in Warehouses)\n",
    "    transportation_cost = gp.quicksum(supplyCost[w][c]*warehouse_supplies_store[w, c] for w in Warehouses for c in Stores)\n",
    "    lagrange_cost = gp.quicksum(1 - lagrange_multipliers[c] * gp.quicksum(warehouse_supplies_store[w, c] for w in Warehouses) for c in Stores)\n",
    "\n",
    "    mdl.setObjective(cost_of_opening_a_warehouse + transportation_cost + lagrange_cost, sense=gp.GRB.MINIMIZE)\n",
    "\n",
    "    mdl.optimize()\n",
    "\n",
    "    msol = (\n",
    "        [var.X for var in warehouse_is_open.values()],\n",
    "        [var.X for var in warehouse_supplies_store.values()],\n",
    "    )\n",
    "\n",
    "    relaxed_constraints = [1 - gp.quicksum(msol[1][w][c] for w in Warehouses) for c in Stores]\n",
    "    \n",
    "    return (mdl.getObjective().getValue(),  # the objective value\n",
    "            msol, # solution\n",
    "            relaxed_constraints)  # slack of the relaxed constraints"
   ]
  },
  {
   "cell_type": "markdown",
   "metadata": {},
   "source": [
    "#### Try the function"
   ]
  },
  {
   "cell_type": "code",
   "execution_count": null,
   "metadata": {},
   "outputs": [],
   "source": [
    "from pprint import pprint\n",
    "\n",
    "obj, msol, relaxed = lagrangian_relaxation([fixed]*nbStores)\n",
    "pprint(msol)\n",
    "pprint(relaxed)"
   ]
  },
  {
   "cell_type": "markdown",
   "metadata": {},
   "source": [
    "#### 3. Implement the Cutting Plane Method\n",
    "\n",
    "1. State the master problem\n",
    "2. Keep track of the best feasible solution\n",
    "3. Use the solution to the master problem to solve the Lagrangian subproblem"
   ]
  },
  {
   "cell_type": "code",
   "execution_count": null,
   "metadata": {},
   "outputs": [],
   "source": [
    "rlambda = [fixed]*nbStores\n",
    "fsol = None\n",
    "iteration = 0\n",
    "step = 1\n",
    "UB = M*nbStores\n",
    "bestFeasibleValue = UB\n",
    "bestFeasible = 0\n",
    "\n",
    "while True:\n",
    "    # TODO: implement the loop\n",
    "    \n",
    "  \n",
    "print('========================')\n",
    "print('Lagrangian dual: ' + str(UB))\n",
    "if bestFeasible != 0:\n",
    "    print('-- best feasible --')\n",
    "    print(bestFeasible)"
   ]
  },
  {
   "cell_type": "code",
   "execution_count": null,
   "metadata": {},
   "outputs": [],
   "source": []
  }
 ],
 "metadata": {
  "kernelspec": {
   "display_name": "Python CP",
   "language": "python",
   "name": "docplex"
  },
  "language_info": {
   "codemirror_mode": {
    "name": "ipython",
    "version": 3
   },
   "file_extension": ".py",
   "mimetype": "text/x-python",
   "name": "python",
   "nbconvert_exporter": "python",
   "pygments_lexer": "ipython3",
   "version": "3.7.5"
  }
 },
 "nbformat": 4,
 "nbformat_minor": 2
}
