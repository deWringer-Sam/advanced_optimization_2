{
 "cells": [
  {
   "cell_type": "markdown",
   "metadata": {},
   "source": [
    "# Gas Network Problem\n",
    "\n",
    "There is a network of nodes where some gas is either produced or consumed. The goal of the problem is to find the best way to transport the gas from the production nodes to the consumption nodes.\n",
    "\n",
    "You have to decide whether a pipeline is constructed between two nodes or not. A pipeline has a capacity and a cost to be opened (i.e, constructed). Once the pipeline is opened, you also have a cost for each unit of gas that is transported through this pipeline. Finally, there is a penalty for each unit of produced gas which is not consumed.\n",
    "\n",
    "#### You want to minimize the total cost."
   ]
  },
  {
   "cell_type": "code",
   "execution_count": 107,
   "metadata": {},
   "outputs": [
    {
     "name": "stdout",
     "output_type": "stream",
     "text": [
      "generation - demand? (10): 0\n"
     ]
    }
   ],
   "source": [
    "\n",
    "\n",
    "# consumption (demand)\n",
    "d = [0, 50, 95, 10, 73, 55, 125, 32, 40, 20]\n",
    "# production (maximum generation)\n",
    "#gmax = [500, 0, 0, 500, 0, 0, 500, 0, 0, 0]\n",
    "gmax = [500, 0, 0, 0, 0, 0, 0, 0, 0, 0]\n",
    "N = len(d)\n",
    "NODES = range(N)\n",
    "print('generation - demand? (%d): %d' % (N, sum(gmax) - sum(d)))"
   ]
  },
  {
   "cell_type": "code",
   "execution_count": 108,
   "metadata": {},
   "outputs": [],
   "source": [
    "# capacity of the arcs\n",
    "ca = [ [10, 20, 30, 40, 50, 60, 70, 80, 90, 100],\n",
    "       [20, 30, 40, 50, 60, 70, 80, 90, 100, 10],\n",
    "       [30, 40, 50, 60, 70, 80, 90, 100, 10, 20],\n",
    "       [40, 50, 60, 70, 80, 90, 100, 10, 20, 30],\n",
    "       [50, 60, 70, 80, 90, 100, 10, 20, 30, 40],\n",
    "       [60, 70, 80, 90, 100, 10, 20, 30, 40, 50],\n",
    "       [70, 80, 90, 100, 10, 20, 30, 40, 50, 60],\n",
    "       [80, 90, 100, 10, 20, 30, 40, 50, 60, 70],\n",
    "       [90, 100, 10, 20, 30, 40, 50, 60, 70, 80],\n",
    "       [100, 10, 20, 30, 40, 50, 60, 70, 80, 90]\n",
    "     ]\n",
    "\n",
    "# linear variable cost: the cost of transporting one unit of gas\n",
    "vc = 1\n",
    "\n",
    "# unsatisfied demand: penalty for each unit of gas which is not consumed or produced\n",
    "p = 100\n",
    "\n",
    "# linear fixed cost: the cost of opening an arc is proportional to its capacity\n",
    "fc = [ [10 * c for c in row] for row in ca]\n"
   ]
  },
  {
   "cell_type": "code",
   "execution_count": 108,
   "metadata": {},
   "outputs": [],
   "source": []
  },
  {
   "cell_type": "markdown",
   "metadata": {},
   "source": [
    "### Exercices\n",
    "#### 1. Find the formulation of the problem\n",
    "\n",
    "#### 2. Implement the model"
   ]
  },
  {
   "cell_type": "code",
   "execution_count": 109,
   "metadata": {},
   "outputs": [],
   "source": [
    "import gurobipy as gp\n",
    "mdl = gp.Model(name='gas network')\n",
    "\n",
    "# Decision variables\n",
    "flow_through_pipes = mdl.addVars(((i,j) for i in NODES for j in NODES if j != i), vtype=gp.GRB.CONTINUOUS, name='open', lb=0)\n",
    "for i in NODES:\n",
    "    flow_through_pipes[i,i] = 0\n",
    "\n",
    "# Gas generation\n",
    "gas_generation = mdl.addVars(NODES, vtype=gp.GRB.CONTINUOUS, name='generation', lb=0)\n",
    "\n",
    "# Dependent variables\n",
    "\n",
    "# Demand unsatisfaction\n",
    "unsatisfied_demand = mdl.addVars(NODES, vtype=gp.GRB.CONTINUOUS, name='unsatisfied_demand', lb=0)\n",
    "\n",
    "# Pipe is open indicator variable\n",
    "pipe_is_open = mdl.addVars(((i,j) for i in NODES for j in NODES if j > i), vtype=gp.GRB.BINARY, name='pipe_is_open')\n",
    "for i in NODES:\n",
    "    pipe_is_open[i,i] = 0\n",
    "for i in NODES:\n",
    "    for j in NODES:\n",
    "        if j < i:\n",
    "            pipe_is_open[i,j] = pipe_is_open[j, i]\n",
    "\n",
    "\n",
    "# Constraints\n",
    "# Pipe capacity constraints\n",
    "mdl.addConstrs(\n",
    "       (flow_through_pipes[i, j] <= ca[i][j] * pipe_is_open[i, j] for i in NODES for j in NODES),\n",
    "       name='capacity_constraints',\n",
    ")\n",
    "\n",
    "# Flow symmetry constraints\n",
    "# mdl.addConstrs(\n",
    "#        (flow_through_pipes[i, j] == flow_through_pipes[j, i] for i in NODES for j in NODES),\n",
    "#        name='flow_symmetry_constraint',\n",
    "# )\n",
    "\n",
    "# Gas generation constraints\n",
    "mdl.addConstrs(\n",
    "         (gas_generation[i] <= gmax[i] for i in NODES),\n",
    "         name='generation_constraints',\n",
    ")\n",
    "\n",
    "# Demand satisfaction constraints\n",
    "\n",
    "mdl.addConstrs(\n",
    "            (\n",
    "                gp.quicksum(flow_through_pipes[j, i] for j in NODES) + gas_generation[i]\n",
    "                == gp.quicksum(flow_through_pipes[i, j] for j in NODES) + d[i] - unsatisfied_demand[i]\n",
    "                for i in NODES\n",
    "            ),\n",
    "            name='demand_constraints',\n",
    ")\n",
    "\n",
    "## Objective function\n",
    "# Flow cost\n",
    "flow_cost = gp.quicksum(vc * flow_through_pipes[i, j] for i in NODES for j in NODES)\n",
    "\n",
    "# Unsatisfied demand cost\n",
    "unsatisfied_demand_cost = gp.quicksum(p * unsatisfied_demand[i] for i in NODES)\n",
    "\n",
    "# Opening a pipe cost\n",
    "opening_pipe_cost = gp.quicksum(fc[i][j] * pipe_is_open[i, j] for i in NODES for j in NODES if i > j)\n",
    "\n",
    "mdl.setObjective(flow_cost + unsatisfied_demand_cost + opening_pipe_cost, sense=gp.GRB.MINIMIZE)\n"
   ]
  },
  {
   "cell_type": "code",
   "execution_count": 110,
   "outputs": [
    {
     "name": "stdout",
     "output_type": "stream",
     "text": [
      "Gurobi Optimizer version 11.0.0 build v11.0.0rc2 (mac64[arm] - Darwin 23.5.0 23F79)\n",
      "Gurobi Compute Server Worker version 11.0.0 build v11.0.0rc2 (linux64 - \"Ubuntu 20.04.6 LTS\")\n",
      "\n",
      "CPU model: Intel(R) Xeon(R) Platinum 8275CL CPU @ 3.00GHz, instruction set [SSE2|AVX|AVX2|AVX512]\n",
      "Thread count: 8 physical cores, 16 logical processors, using up to 16 threads\n",
      "\n",
      "Optimize a model with 120 rows, 155 columns and 390 nonzeros\n",
      "Model fingerprint: 0xa8bd8e69\n",
      "Variable types: 110 continuous, 45 integer (45 binary)\n",
      "Coefficient statistics:\n",
      "  Matrix range     [1e+00, 1e+02]\n",
      "  Objective range  [1e+00, 1e+03]\n",
      "  Bounds range     [1e+00, 1e+00]\n",
      "  RHS range        [1e+01, 5e+02]\n",
      "Found heuristic solution: objective 50000.000000\n",
      "Presolve removed 20 rows and 9 columns\n",
      "Presolve time: 0.00s\n",
      "Presolved: 100 rows, 146 columns, 371 nonzeros\n",
      "Variable types: 101 continuous, 45 integer (45 binary)\n",
      "\n",
      "Root relaxation: objective 7.403000e+03, 65 iterations, 0.00 seconds (0.00 work units)\n",
      "\n",
      "    Nodes    |    Current Node    |     Objective Bounds      |     Work\n",
      " Expl Unexpl |  Obj  Depth IntInf | Incumbent    BestBd   Gap | It/Node Time\n",
      "\n",
      "     0     0 7403.00000    0    9 50000.0000 7403.00000  85.2%     -    0s\n",
      "H    0     0                    10873.000000 7403.00000  31.9%     -    0s\n",
      "H    0     0                    10673.000000 7403.00000  30.6%     -    0s\n",
      "H    0     0                    10173.000000 7403.00000  27.2%     -    0s\n",
      "H    0     0                    10063.000000 7403.00000  26.4%     -    0s\n",
      "H    0     0                    9673.0000000 7918.06688  18.1%     -    0s\n",
      "H    0     0                    9273.0000000 7918.06688  14.6%     -    0s\n",
      "     0     0 7918.06688    0   16 9273.00000 7918.06688  14.6%     -    0s\n",
      "H    0     0                    8773.0000000 8080.75002  7.89%     -    0s\n",
      "     0     0 8103.00000    0   15 8773.00000 8103.00000  7.64%     -    0s\n",
      "H    0     0                    8673.0000000 8103.00000  6.57%     -    0s\n",
      "     0     0 8188.00000    0   16 8673.00000 8188.00000  5.59%     -    0s\n",
      "     0     0 8273.00000    0   19 8673.00000 8273.00000  4.61%     -    0s\n",
      "     0     0 8403.00000    0   21 8673.00000 8403.00000  3.11%     -    0s\n",
      "     0     0 8410.00000    0   20 8673.00000 8410.00000  3.03%     -    0s\n",
      "     0     0 8460.00000    0   25 8673.00000 8460.00000  2.46%     -    0s\n",
      "     0     0 8463.00000    0   25 8673.00000 8463.00000  2.42%     -    0s\n",
      "     0     0 8463.00000    0    6 8673.00000 8463.00000  2.42%     -    0s\n",
      "     0     0 8463.00000    0   21 8673.00000 8463.00000  2.42%     -    0s\n",
      "     0     0 8463.00000    0   24 8673.00000 8463.00000  2.42%     -    0s\n",
      "     0     0 8463.00000    0   26 8673.00000 8463.00000  2.42%     -    0s\n",
      "     0     0 8463.00000    0   27 8673.00000 8463.00000  2.42%     -    0s\n",
      "     0     0 8463.00000    0   26 8673.00000 8463.00000  2.42%     -    0s\n",
      "     0     0 8497.00000    0   26 8673.00000 8497.00000  2.03%     -    0s\n",
      "     0     0 8673.00000    0   27 8673.00000 8673.00000  0.00%     -    0s\n",
      "\n",
      "Cutting planes:\n",
      "  Gomory: 2\n",
      "  Cover: 4\n",
      "  MIR: 22\n",
      "  Flow cover: 11\n",
      "  Network: 1\n",
      "\n",
      "Explored 1 nodes (642 simplex iterations) in 0.11 seconds (0.03 work units)\n",
      "Thread count was 16 (of 16 available processors)\n",
      "\n",
      "Solution count 9: 8673 8773 9273 ... 50000\n",
      "\n",
      "Optimal solution found (tolerance 1.00e-04)\n",
      "Best objective 8.673000000000e+03, best bound 8.673000000000e+03, gap 0.0000%\n"
     ]
    }
   ],
   "source": [
    "mdl.optimize()"
   ],
   "metadata": {
    "collapsed": false
   }
  },
  {
   "cell_type": "code",
   "execution_count": 111,
   "outputs": [
    {
     "name": "stdout",
     "output_type": "stream",
     "text": [
      "Sanity check\n",
      "  Total generation: 500.0\n",
      "  Total demand: 500\n",
      "  Total deficit: 0.0\n"
     ]
    }
   ],
   "source": [
    "print(\"Sanity check\")\n",
    "print(\"  Total generation:\", sum(gas_generation[i].x for i in NODES))\n",
    "print(\"  Total demand:\", sum(d[i] for i in NODES))\n",
    "print(\"  Total deficit:\", sum(unsatisfied_demand[i].x for i in NODES))"
   ],
   "metadata": {
    "collapsed": false
   }
  },
  {
   "cell_type": "code",
   "execution_count": 112,
   "outputs": [
    {
     "name": "stdout",
     "output_type": "stream",
     "text": [
      "Optimal solution found\n",
      "Node 0:\n",
      "  Generation: 500.0\n",
      "  Deficit: 0.0\n",
      "  Demand: 0\n",
      "  Mass flow to nodes {0: '0.00', 1: '20.00', 2: '30.00', 3: '40.00', 4: '50.00', 5: '55.00', 6: '70.00', 7: '80.00', 8: '63.00', 9: '92.00'}\n",
      "  Sums to 500.0\n",
      "Node 1:\n",
      "  Generation: 0.0\n",
      "  Deficit: 0.0\n",
      "  Demand: 50\n",
      "  Mass flow to nodes {0: '-20.00', 1: '0.00', 2: '0.00', 3: '-30.00', 4: '0.00', 5: '0.00', 6: '0.00', 7: '0.00', 8: '0.00', 9: '0.00'}\n",
      "  Sums to 0.0\n",
      "Node 2:\n",
      "  Generation: 0.0\n",
      "  Deficit: 0.0\n",
      "  Demand: 95\n",
      "  Mass flow to nodes {0: '-30.00', 1: '0.00', 2: '0.00', 3: '0.00', 4: '0.00', 5: '0.00', 6: '0.00', 7: '-48.00', 8: '0.00', 9: '-17.00'}\n",
      "  Sums to 0.0\n",
      "Node 3:\n",
      "  Generation: 0.0\n",
      "  Deficit: 0.0\n",
      "  Demand: 10\n",
      "  Mass flow to nodes {0: '-40.00', 1: '30.00', 2: '0.00', 3: '0.00', 4: '0.00', 5: '0.00', 6: '0.00', 7: '0.00', 8: '0.00', 9: '0.00'}\n",
      "  Sums to 30.0\n",
      "Node 4:\n",
      "  Generation: 0.0\n",
      "  Deficit: 0.0\n",
      "  Demand: 73\n",
      "  Mass flow to nodes {0: '-50.00', 1: '0.00', 2: '0.00', 3: '0.00', 4: '0.00', 5: '0.00', 6: '0.00', 7: '0.00', 8: '-23.00', 9: '0.00'}\n",
      "  Sums to 0.0\n",
      "Node 5:\n",
      "  Generation: 0.0\n",
      "  Deficit: 0.0\n",
      "  Demand: 55\n",
      "  Mass flow to nodes {0: '-55.00', 1: '0.00', 2: '0.00', 3: '0.00', 4: '0.00', 5: '0.00', 6: '0.00', 7: '0.00', 8: '0.00', 9: '0.00'}\n",
      "  Sums to 0.0\n",
      "Node 6:\n",
      "  Generation: 0.0\n",
      "  Deficit: 0.0\n",
      "  Demand: 125\n",
      "  Mass flow to nodes {0: '-70.00', 1: '0.00', 2: '0.00', 3: '0.00', 4: '0.00', 5: '0.00', 6: '0.00', 7: '0.00', 8: '0.00', 9: '-55.00'}\n",
      "  Sums to 0.0\n",
      "Node 7:\n",
      "  Generation: 0.0\n",
      "  Deficit: 0.0\n",
      "  Demand: 32\n",
      "  Mass flow to nodes {0: '-80.00', 1: '0.00', 2: '48.00', 3: '0.00', 4: '0.00', 5: '0.00', 6: '0.00', 7: '0.00', 8: '0.00', 9: '0.00'}\n",
      "  Sums to 48.0\n",
      "Node 8:\n",
      "  Generation: 0.0\n",
      "  Deficit: 0.0\n",
      "  Demand: 40\n",
      "  Mass flow to nodes {0: '-63.00', 1: '0.00', 2: '0.00', 3: '0.00', 4: '23.00', 5: '0.00', 6: '0.00', 7: '0.00', 8: '0.00', 9: '0.00'}\n",
      "  Sums to 23.0\n",
      "Node 9:\n",
      "  Generation: 0.0\n",
      "  Deficit: 0.0\n",
      "  Demand: 20\n",
      "  Mass flow to nodes {0: '-92.00', 1: '0.00', 2: '17.00', 3: '0.00', 4: '0.00', 5: '0.00', 6: '55.00', 7: '0.00', 8: '0.00', 9: '0.00'}\n",
      "  Sums to 72.0\n"
     ]
    }
   ],
   "source": [
    "mdl.write(\"gas_network.lp\")\n",
    "if mdl.status == gp.GRB.OPTIMAL:\n",
    "    print(\"Optimal solution found\")\n",
    "    for i in NODES:\n",
    "        print(f\"Node {i}:\")\n",
    "        print(f\"  Generation: {gas_generation[i].x}\")\n",
    "        print(f\"  Deficit: {unsatisfied_demand[i].x}\")\n",
    "        print(f\"  Demand: {d[i]}\")\n",
    "\n",
    "        node_flows = {\n",
    "            (i, j): expression.getValue()\n",
    "            if isinstance((expression := flow_through_pipes[i, j]), gp.LinExpr)\n",
    "            else (\n",
    "                expression.X if isinstance(expression, gp.Var)\n",
    "                else expression\n",
    "            )\n",
    "            for i in NODES for j in NODES\n",
    "        }\n",
    "        stringified = {j: f\"{max(node_flows[i, j],-node_flows[j, i], key=abs):02.2f}\" for j in NODES}\n",
    "        print(f\"  Mass flow to nodes {stringified}\")\n",
    "        print(f\"  Sums to {sum(node_flows[i, j] for j in NODES)}\")\n",
    "\n",
    "else:\n",
    "    print(\"No optimal solution found\")\n",
    "    mdl.computeIIS()\n",
    "    mdl.write(\"gas_network.ilp\")"
   ],
   "metadata": {
    "collapsed": false
   }
  },
  {
   "cell_type": "code",
   "execution_count": 112,
   "outputs": [],
   "source": [],
   "metadata": {
    "collapsed": false
   }
  }
 ],
 "metadata": {
  "kernelspec": {
   "name": "advanced_optimization_2",
   "language": "python",
   "display_name": "advanced_optimization_2"
  },
  "language_info": {
   "codemirror_mode": {
    "name": "ipython",
    "version": 3
   },
   "file_extension": ".py",
   "mimetype": "text/x-python",
   "name": "python",
   "nbconvert_exporter": "python",
   "pygments_lexer": "ipython3",
   "version": "3.7.7"
  }
 },
 "nbformat": 4,
 "nbformat_minor": 2
}
